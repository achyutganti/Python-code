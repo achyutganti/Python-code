{
 "cells": [
  {
   "cell_type": "code",
   "execution_count": 2,
   "metadata": {},
   "outputs": [
    {
     "name": "stdout",
     "output_type": "stream",
     "text": [
      "Encryption or Decryption. Press E or D: D\n",
      "Enter your text here: jk vjku ku cejawv\n",
      "\n",
      "Enter the passcode: ········\n",
      "hi this is achyut\n"
     ]
    }
   ],
   "source": [
    "import getpass\n",
    "from string import ascii_lowercase\n",
    "select = raw_input('Encryption or Decryption. Press E or D: ' )\n",
    "text = raw_input('Enter your text here: ').lower()\n",
    "alpha = ascii_lowercase\n",
    "alpha+=alpha\n",
    "beta=''\n",
    "if select== 'E':\n",
    "   for i in text:\n",
    "    if i not in alpha:\n",
    "        beta+=i\n",
    "    else:\n",
    "        beta+=alpha[alpha.index(i)+2]\n",
    "print(beta)\n",
    "if select=='D':\n",
    "    passcode=getpass.getpass(prompt='Enter the passcode: ')\n",
    "    if passcode=='cipher':\n",
    "        for i in text:\n",
    "            if i not in alpha:\n",
    "                beta+=i\n",
    "            else:\n",
    "                beta+=alpha[alpha.index(i)-2]\n",
    "        print(beta)\n",
    "    else:\n",
    "        print('wrong passcode')\n"
   ]
  }
 ],
 "metadata": {
  "kernelspec": {
   "display_name": "Python [conda root]",
   "language": "python",
   "name": "conda-root-py"
  },
  "language_info": {
   "codemirror_mode": {
    "name": "ipython",
    "version": 2
   },
   "file_extension": ".py",
   "mimetype": "text/x-python",
   "name": "python",
   "nbconvert_exporter": "python",
   "pygments_lexer": "ipython2",
   "version": "2.7.14"
  }
 },
 "nbformat": 4,
 "nbformat_minor": 2
}
