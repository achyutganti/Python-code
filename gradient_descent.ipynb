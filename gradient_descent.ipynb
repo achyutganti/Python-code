{
 "cells": [
  {
   "cell_type": "code",
   "execution_count": null,
   "metadata": {},
   "outputs": [],
   "source": [
    "import pandas as pd\n",
    "import numpy as np\n",
    "\n",
    "carpet = pd.read_csv('C:/Users/AchyutGanti/Documents/Machine Learning/carpet_age.csv')\n",
    "y = carpet['age']\n",
    "\n",
    "carpet = pd.DataFrame.as_matrix(carpet)\n",
    "carpet.drop(['age','sample_id'],axis = 1, inplace=True)\n",
    "carpet['x0'] = 1\n",
    "\n",
    "\n",
    "iterations = 10000\n",
    "alpha = 0.1\n",
    "\n",
    "teta = np.array([0,0,0,0,0])\n",
    "\n",
    "def cost_function(X, y, teta):\n",
    "    m = len(carpet)\n",
    "    \n",
    "    J = np.sum((X.dot(teta)-y)**2)/2/m\n",
    "    return J\n",
    "\n",
    "cost_function(carpet, y, teta)\n",
    "\n",
    "def gradient_descent(X, y, teta, alpha, iterations):\n",
    "    teta = np.array([0,0,0,0,0])\n",
    "    m = len(carpet)\n",
    "    cost_history = [0] * iterations\n",
    "\n",
    "    for iteration in range(iterations):\n",
    "        hypothesis = X.dot(teta)\n",
    "        loss = hypothesis-y\n",
    "        gradient = X.T.dot(loss)/m\n",
    "        teta = teta - alpha*gradient\n",
    "        cost = cost_function(X, y, teta)\n",
    "        cost_history[iteration] = cost\n",
    "    return teta, cost_history\n",
    "\n",
    "(b, c) = gradient_descent(carpet, y, teta, alpha, iterations)\n",
    "print(b)\n",
    "print(c)\n",
    "len('3149248181999')\n",
    "383.21874373*4.27 - 42.64716*1.21 - 12.47324757*0.02 - 66.22654565*0.15 + 65.75739949\n",
    "\n",
    "354.18393684*4.27 - 21.18828145*1.21 - 461.23077036*0.02  - 75.23874976*0.15 + 177.83792232\n",
    "\n",
    "378.78841183*4.27 + 37.68167354*1.21 - 1204.44659813*0.02-13.20702244*0.15\n"
   ]
  }
 ],
 "metadata": {
  "kernelspec": {
   "display_name": "Python [conda root]",
   "language": "python",
   "name": "conda-root-py"
  },
  "language_info": {
   "codemirror_mode": {
    "name": "ipython",
    "version": 2
   },
   "file_extension": ".py",
   "mimetype": "text/x-python",
   "name": "python",
   "nbconvert_exporter": "python",
   "pygments_lexer": "ipython2",
   "version": "2.7.15"
  }
 },
 "nbformat": 4,
 "nbformat_minor": 2
}
