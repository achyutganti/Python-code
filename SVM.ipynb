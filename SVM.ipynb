{
 "cells": [
  {
   "cell_type": "code",
   "execution_count": 1,
   "metadata": {
    "collapsed": true
   },
   "outputs": [],
   "source": [
    "#Import the functions needed. \n",
    "import numpy as np\n",
    "from matplotlib import pyplot as plt\n",
    "%matplotlib inline"
   ]
  },
  {
   "cell_type": "code",
   "execution_count": 2,
   "metadata": {
    "collapsed": true
   },
   "outputs": [],
   "source": [
    "# Define the data\n",
    "#Input data (x,y,bias)\n",
    "X=np.array([[-2,4],[4,1],[1, 6],[2, 4],[6, 2]])"
   ]
  },
  {
   "cell_type": "code",
   "execution_count": 3,
   "metadata": {
    "collapsed": true
   },
   "outputs": [],
   "source": [
    "#The output array or labels. \n",
    "y=np.array([-1,-1,1,1,1])"
   ]
  },
  {
   "cell_type": "code",
   "execution_count": 4,
   "metadata": {},
   "outputs": [
    {
     "data": {
      "text/plain": [
       "[<matplotlib.lines.Line2D at 0x7f171aa4e490>]"
      ]
     },
     "execution_count": 4,
     "metadata": {},
     "output_type": "execute_result"
    },
    {
     "data": {
      "image/png": "[encoded data removed]",
      "text/plain": [
       "<matplotlib.figure.Figure at 0x7f171aa4e4d0>"
      ]
     },
     "metadata": {},
     "output_type": "display_data"
    }
   ],
   "source": [
    "for d, sample in enumerate(X):\n",
    "    # Plot the negative samples (the first 2)\n",
    "    if d < 2:\n",
    "        plt.scatter(sample[0], sample[1], s=120, marker='_')\n",
    "    # Plot the positive samples (the last 3)\n",
    "    else:\n",
    "        plt.scatter(sample[0], sample[1], s=120, marker='+')\n",
    "plt.plot([-2,6],[6,1])\n",
    "plt.plot([-2,6],[6,0.5])"
   ]
  },
  {
   "cell_type": "code",
   "execution_count": 5,
   "metadata": {
    "collapsed": true
   },
   "outputs": [],
   "source": [
    "#Gradient descent to learn the separating hyperplane between both the classes. \n",
    "def svm_gd(X,Y):\n",
    "    w=np.zeros(len(X[0]))\n",
    "    l=1\n",
    "    epoch=20\n",
    "    errors=[]\n",
    "    \n",
    "    for e in range(1,epoch):\n",
    "        error=0\n",
    "        for i,v in enumerate(X):\n",
    "            print(\"wt:\",w)\n",
    "            print('Xterms',X[i])\n",
    "            print(Y[i]*np.dot(X[i],w))\n",
    "            if (Y[i]*np.dot(X[i],w))<1:\n",
    "                w= w+l*((X[i]*Y[i])+(-2*(1/epoch)*w))\n",
    "                \n",
    "                error=1\n",
    "            else:\n",
    "                w=w+l*(-2*(1/epoch)*w)\n",
    "        errors.append(error)\n",
    "    #print(errors)    \n",
    "    plt.plot(errors,'|')\n",
    "    plt.ylim(0.5,1.5)\n",
    "    plt.show()\n",
    "    return w, sum(errors)\n",
    "    "
   ]
  },
  {
   "cell_type": "code",
   "execution_count": 6,
   "metadata": {},
   "outputs": [
    {
     "name": "stdout",
     "output_type": "stream",
     "text": [
      "('wt:', array([ 0.,  0.]))\n",
      "('Xterms', array([-2,  4]))\n",
      "-0.0\n",
      "('wt:', array([ 2., -4.]))\n",
      "('Xterms', array([4, 1]))\n",
      "-4.0\n",
      "('wt:', array([-2., -5.]))\n",
      "('Xterms', array([1, 6]))\n",
      "-32.0\n",
      "('wt:', array([-1.,  1.]))\n",
      "('Xterms', array([2, 4]))\n",
      "2.0\n",
      "('wt:', array([-1.,  1.]))\n",
      "('Xterms', array([6, 2]))\n",
      "-4.0\n",
      "('wt:', array([ 5.,  3.]))\n",
      "('Xterms', array([-2,  4]))\n",
      "-2.0\n",
      "('wt:', array([ 7., -1.]))\n",
      "('Xterms', array([4, 1]))\n",
      "-27.0\n",
      "('wt:', array([ 3., -2.]))\n",
      "('Xterms', array([1, 6]))\n",
      "-9.0\n",
      "('wt:', array([ 4.,  4.]))\n",
      "('Xterms', array([2, 4]))\n",
      "24.0\n",
      "('wt:', array([ 4.,  4.]))\n",
      "('Xterms', array([6, 2]))\n",
      "32.0\n",
      "('wt:', array([ 4.,  4.]))\n",
      "('Xterms', array([-2,  4]))\n",
      "-8.0\n",
      "('wt:', array([ 6.,  0.]))\n",
      "('Xterms', array([4, 1]))\n",
      "-24.0\n",
      "('wt:', array([ 2., -1.]))\n",
      "('Xterms', array([1, 6]))\n",
      "-4.0\n",
      "('wt:', array([ 3.,  5.]))\n",
      "('Xterms', array([2, 4]))\n",
      "26.0\n",
      "('wt:', array([ 3.,  5.]))\n",
      "('Xterms', array([6, 2]))\n",
      "28.0\n",
      "('wt:', array([ 3.,  5.]))\n",
      "('Xterms', array([-2,  4]))\n",
      "-14.0\n",
      "('wt:', array([ 5.,  1.]))\n",
      "('Xterms', array([4, 1]))\n",
      "-21.0\n",
      "('wt:', array([ 1.,  0.]))\n",
      "('Xterms', array([1, 6]))\n",
      "1.0\n",
      "('wt:', array([ 1.,  0.]))\n",
      "('Xterms', array([2, 4]))\n",
      "2.0\n",
      "('wt:', array([ 1.,  0.]))\n",
      "('Xterms', array([6, 2]))\n",
      "6.0\n",
      "('wt:', array([ 1.,  0.]))\n",
      "('Xterms', array([-2,  4]))\n",
      "2.0\n",
      "('wt:', array([ 1.,  0.]))\n",
      "('Xterms', array([4, 1]))\n",
      "-4.0\n",
      "('wt:', array([-3., -1.]))\n",
      "('Xterms', array([1, 6]))\n",
      "-9.0\n",
      "('wt:', array([-2.,  5.]))\n",
      "('Xterms', array([2, 4]))\n",
      "16.0\n",
      "('wt:', array([-2.,  5.]))\n",
      "('Xterms', array([6, 2]))\n",
      "-2.0\n",
      "('wt:', array([ 4.,  7.]))\n",
      "('Xterms', array([-2,  4]))\n",
      "-20.0\n",
      "('wt:', array([ 6.,  3.]))\n",
      "('Xterms', array([4, 1]))\n",
      "-27.0\n",
      "('wt:', array([ 2.,  2.]))\n",
      "('Xterms', array([1, 6]))\n",
      "14.0\n",
      "('wt:', array([ 2.,  2.]))\n",
      "('Xterms', array([2, 4]))\n",
      "12.0\n",
      "('wt:', array([ 2.,  2.]))\n",
      "('Xterms', array([6, 2]))\n",
      "16.0\n",
      "('wt:', array([ 2.,  2.]))\n",
      "('Xterms', array([-2,  4]))\n",
      "-4.0\n",
      "('wt:', array([ 4., -2.]))\n",
      "('Xterms', array([4, 1]))\n",
      "-14.0\n",
      "('wt:', array([ 0., -3.]))\n",
      "('Xterms', array([1, 6]))\n",
      "-18.0\n",
      "('wt:', array([ 1.,  3.]))\n",
      "('Xterms', array([2, 4]))\n",
      "14.0\n",
      "('wt:', array([ 1.,  3.]))\n",
      "('Xterms', array([6, 2]))\n",
      "12.0\n",
      "('wt:', array([ 1.,  3.]))\n",
      "('Xterms', array([-2,  4]))\n",
      "-10.0\n",
      "('wt:', array([ 3., -1.]))\n",
      "('Xterms', array([4, 1]))\n",
      "-11.0\n",
      "('wt:', array([-1., -2.]))\n",
      "('Xterms', array([1, 6]))\n",
      "-13.0\n",
      "('wt:', array([ 0.,  4.]))\n",
      "('Xterms', array([2, 4]))\n",
      "16.0\n",
      "('wt:', array([ 0.,  4.]))\n",
      "('Xterms', array([6, 2]))\n",
      "8.0\n",
      "('wt:', array([ 0.,  4.]))\n",
      "('Xterms', array([-2,  4]))\n",
      "-16.0\n",
      "('wt:', array([ 2.,  0.]))\n",
      "('Xterms', array([4, 1]))\n",
      "-8.0\n",
      "('wt:', array([-2., -1.]))\n",
      "('Xterms', array([1, 6]))\n",
      "-8.0\n",
      "('wt:', array([-1.,  5.]))\n",
      "('Xterms', array([2, 4]))\n",
      "18.0\n",
      "('wt:', array([-1.,  5.]))\n",
      "('Xterms', array([6, 2]))\n",
      "4.0\n",
      "('wt:', array([-1.,  5.]))\n",
      "('Xterms', array([-2,  4]))\n",
      "-22.0\n",
      "('wt:', array([ 1.,  1.]))\n",
      "('Xterms', array([4, 1]))\n",
      "-5.0\n",
      "('wt:', array([-3.,  0.]))\n",
      "('Xterms', array([1, 6]))\n",
      "-3.0\n",
      "('wt:', array([-2.,  6.]))\n",
      "('Xterms', array([2, 4]))\n",
      "20.0\n",
      "('wt:', array([-2.,  6.]))\n",
      "('Xterms', array([6, 2]))\n",
      "0.0\n",
      "('wt:', array([ 4.,  8.]))\n",
      "('Xterms', array([-2,  4]))\n",
      "-24.0\n",
      "('wt:', array([ 6.,  4.]))\n",
      "('Xterms', array([4, 1]))\n",
      "-28.0\n",
      "('wt:', array([ 2.,  3.]))\n",
      "('Xterms', array([1, 6]))\n",
      "20.0\n",
      "('wt:', array([ 2.,  3.]))\n",
      "('Xterms', array([2, 4]))\n",
      "16.0\n",
      "('wt:', array([ 2.,  3.]))\n",
      "('Xterms', array([6, 2]))\n",
      "18.0\n",
      "('wt:', array([ 2.,  3.]))\n",
      "('Xterms', array([-2,  4]))\n",
      "-8.0\n",
      "('wt:', array([ 4., -1.]))\n",
      "('Xterms', array([4, 1]))\n",
      "-15.0\n",
      "('wt:', array([ 0., -2.]))\n",
      "('Xterms', array([1, 6]))\n",
      "-12.0\n",
      "('wt:', array([ 1.,  4.]))\n",
      "('Xterms', array([2, 4]))\n",
      "18.0\n",
      "('wt:', array([ 1.,  4.]))\n",
      "('Xterms', array([6, 2]))\n",
      "14.0\n",
      "('wt:', array([ 1.,  4.]))\n",
      "('Xterms', array([-2,  4]))\n",
      "-14.0\n",
      "('wt:', array([ 3.,  0.]))\n",
      "('Xterms', array([4, 1]))\n",
      "-12.0\n",
      "('wt:', array([-1., -1.]))\n",
      "('Xterms', array([1, 6]))\n",
      "-7.0\n",
      "('wt:', array([ 0.,  5.]))\n",
      "('Xterms', array([2, 4]))\n",
      "20.0\n",
      "('wt:', array([ 0.,  5.]))\n",
      "('Xterms', array([6, 2]))\n",
      "10.0\n",
      "('wt:', array([ 0.,  5.]))\n",
      "('Xterms', array([-2,  4]))\n",
      "-20.0\n",
      "('wt:', array([ 2.,  1.]))\n",
      "('Xterms', array([4, 1]))\n",
      "-9.0\n",
      "('wt:', array([-2.,  0.]))\n",
      "('Xterms', array([1, 6]))\n",
      "-2.0\n",
      "('wt:', array([-1.,  6.]))\n",
      "('Xterms', array([2, 4]))\n",
      "22.0\n",
      "('wt:', array([-1.,  6.]))\n",
      "('Xterms', array([6, 2]))\n",
      "6.0\n",
      "('wt:', array([-1.,  6.]))\n",
      "('Xterms', array([-2,  4]))\n",
      "-26.0\n",
      "('wt:', array([ 1.,  2.]))\n",
      "('Xterms', array([4, 1]))\n",
      "-6.0\n",
      "('wt:', array([-3.,  1.]))\n",
      "('Xterms', array([1, 6]))\n",
      "3.0\n",
      "('wt:', array([-3.,  1.]))\n",
      "('Xterms', array([2, 4]))\n",
      "-2.0\n",
      "('wt:', array([-1.,  5.]))\n",
      "('Xterms', array([6, 2]))\n",
      "4.0\n",
      "('wt:', array([-1.,  5.]))\n",
      "('Xterms', array([-2,  4]))\n",
      "-22.0\n",
      "('wt:', array([ 1.,  1.]))\n",
      "('Xterms', array([4, 1]))\n",
      "-5.0\n",
      "('wt:', array([-3.,  0.]))\n",
      "('Xterms', array([1, 6]))\n",
      "-3.0\n",
      "('wt:', array([-2.,  6.]))\n",
      "('Xterms', array([2, 4]))\n",
      "20.0\n",
      "('wt:', array([-2.,  6.]))\n",
      "('Xterms', array([6, 2]))\n",
      "0.0\n",
      "('wt:', array([ 4.,  8.]))\n",
      "('Xterms', array([-2,  4]))\n",
      "-24.0\n",
      "('wt:', array([ 6.,  4.]))\n",
      "('Xterms', array([4, 1]))\n",
      "-28.0\n",
      "('wt:', array([ 2.,  3.]))\n",
      "('Xterms', array([1, 6]))\n",
      "20.0\n",
      "('wt:', array([ 2.,  3.]))\n",
      "('Xterms', array([2, 4]))\n",
      "16.0\n",
      "('wt:', array([ 2.,  3.]))\n",
      "('Xterms', array([6, 2]))\n",
      "18.0\n",
      "('wt:', array([ 2.,  3.]))\n",
      "('Xterms', array([-2,  4]))\n",
      "-8.0\n",
      "('wt:', array([ 4., -1.]))\n",
      "('Xterms', array([4, 1]))\n",
      "-15.0\n",
      "('wt:', array([ 0., -2.]))\n",
      "('Xterms', array([1, 6]))\n",
      "-12.0\n",
      "('wt:', array([ 1.,  4.]))\n",
      "('Xterms', array([2, 4]))\n",
      "18.0\n",
      "('wt:', array([ 1.,  4.]))\n",
      "('Xterms', array([6, 2]))\n",
      "14.0\n",
      "('wt:', array([ 1.,  4.]))\n",
      "('Xterms', array([-2,  4]))\n",
      "-14.0\n",
      "('wt:', array([ 3.,  0.]))\n",
      "('Xterms', array([4, 1]))\n",
      "-12.0\n",
      "('wt:', array([-1., -1.]))\n",
      "('Xterms', array([1, 6]))\n",
      "-7.0\n",
      "('wt:', array([ 0.,  5.]))\n",
      "('Xterms', array([2, 4]))\n",
      "20.0\n",
      "('wt:', array([ 0.,  5.]))\n",
      "('Xterms', array([6, 2]))\n",
      "10.0\n"
     ]
    },
    {
     "data": {
      "image/png": "[encoded data removed]",
      "text/plain": [
       "<matplotlib.figure.Figure at 0x7f17402e6f90>"
      ]
     },
     "metadata": {},
     "output_type": "display_data"
    },
    {
     "data": {
      "text/plain": [
       "(array([ 0.,  5.]), 19)"
      ]
     },
     "execution_count": 6,
     "metadata": {},
     "output_type": "execute_result"
    }
   ],
   "source": [
    "svm_gd(X,y)"
   ]
  },
  {
   "cell_type": "code",
   "execution_count": 7,
   "metadata": {
    "scrolled": true
   },
   "outputs": [
    {
     "data": {
      "text/plain": [
       "[<matplotlib.lines.Line2D at 0x7f1717555a10>]"
      ]
     },
     "execution_count": 7,
     "metadata": {},
     "output_type": "execute_result"
    },
    {
     "data": {
      "image/png": "[encoded data removed]",
      "text/plain": [
       "<matplotlib.figure.Figure at 0x7f1717555f90>"
      ]
     },
     "metadata": {},
     "output_type": "display_data"
    }
   ],
   "source": [
    "import numpy as np\n",
    "#to plot our data and model visually\n",
    "from matplotlib import pyplot as plt\n",
    "%matplotlib inline\n",
    "\n",
    "#Step 1 - Define our data\n",
    "\n",
    "#Input data - Of the form [X value, Y value, Bias term]\n",
    "X = np.array([\n",
    "    [-2,4,-1],\n",
    "    [4,1,-1],\n",
    "    [1, 6, -1],\n",
    "    [2, 4, -1],\n",
    "    [6, 2, -1],\n",
    "])\n",
    "\n",
    "#Associated output labels - First 2 examples are labeled '-1' and last 3 are labeled '+1'\n",
    "y = np.array([-1,-1,1,1,1])\n",
    "\n",
    "#lets plot these examples on a 2D graph!\n",
    "#for each example\n",
    "for d, sample in enumerate(X):\n",
    "    # Plot the negative samples (the first 2)\n",
    "    if d < 2:\n",
    "        plt.scatter(sample[0], sample[1], s=120, marker='_', linewidths=2)\n",
    "    # Plot the positive samples (the last 3)\n",
    "    else:\n",
    "        plt.scatter(sample[0], sample[1], s=120, marker='+', linewidths=2)\n",
    "\n",
    "# Print a possible hyperplane, that is seperating the two classes.\n",
    "#we'll two points and draw the line between them (naive guess)\n",
    "plt.plot([-2,6],[6,0.5])"
   ]
  },
  {
   "cell_type": "code",
   "execution_count": 8,
   "metadata": {
    "collapsed": true
   },
   "outputs": [],
   "source": [
    "#lets perform stochastic gradient descent to learn the seperating hyperplane between both classes\n",
    "\n",
    "def svm_sgd_plot(X, Y):\n",
    "    #Initialize our SVMs weight vector with zeros (3 values)\n",
    "    w = np.zeros(len(X[0]))\n",
    "    #The learning rate\n",
    "    eta = 1\n",
    "    #how many iterations to train for\n",
    "    epochs = 100000\n",
    "    #store misclassifications so we can plot how they change over time\n",
    "    errors = []\n",
    "\n",
    "    #training part, gradient descent part\n",
    "    for epoch in range(1,epochs):\n",
    "        error = 0\n",
    "        for i, x in enumerate(X):\n",
    "            #misclassification\n",
    "            if (Y[i]*np.dot(X[i], w)) < 1:\n",
    "                #misclassified update for ours weights\n",
    "                w = w + eta * ( (X[i] * Y[i]) + (-2  *(1/epoch)* w) )\n",
    "                error = 1\n",
    "            else:\n",
    "                #correct classification, update our weights\n",
    "                w = w + eta * (-2  *(1/epoch)* w)\n",
    "        errors.append(error)\n",
    "        \n",
    "\n",
    "    #lets plot the rate of classification errors during training for our SVM\n",
    "    plt.plot(errors, '|')\n",
    "    plt.ylim(0.5,1.5)\n",
    "    plt.axes().set_yticklabels([])\n",
    "    plt.xlabel('Epoch')\n",
    "    plt.ylabel('Misclassified')\n",
    "    plt.show()\n",
    "    \n",
    "    return w"
   ]
  },
  {
   "cell_type": "code",
   "execution_count": 9,
   "metadata": {},
   "outputs": [
    {
     "data": {
      "image/png": "[encoded data removed]",
      "text/plain": [
       "<matplotlib.figure.Figure at 0x7f17175d1650>"
      ]
     },
     "metadata": {},
     "output_type": "display_data"
    }
   ],
   "source": [
    "w = svm_sgd_plot(X,y)"
   ]
  },
  {
   "cell_type": "code",
   "execution_count": 10,
   "metadata": {},
   "outputs": [
    {
     "data": {
      "text/plain": [
       "<matplotlib.quiver.Quiver at 0x7f17173cf390>"
      ]
     },
     "execution_count": 10,
     "metadata": {},
     "output_type": "execute_result"
    },
    {
     "data": {
      "image/png": "[encoded data removed]",
      "text/plain": [
       "<matplotlib.figure.Figure at 0x7f171764c050>"
      ]
     },
     "metadata": {},
     "output_type": "display_data"
    }
   ],
   "source": [
    "for d, sample in enumerate(X):\n",
    "    # Plot the negative samples\n",
    "    if d < 2:\n",
    "        plt.scatter(sample[0], sample[1], s=120, marker='_', linewidths=2)\n",
    "    # Plot the positive samples\n",
    "    else:\n",
    "        plt.scatter(sample[0], sample[1], s=120, marker='+', linewidths=2)\n",
    "\n",
    "# Add our test samples\n",
    "plt.scatter(2,2, s=120, marker='_', linewidths=2, color='yellow')\n",
    "plt.scatter(4,3, s=120, marker='+', linewidths=2, color='blue')\n",
    "\n",
    "# Print the hyperplane calculated by svm_sgd()\n",
    "x2=[w[0],w[1],-w[1],w[0]]\n",
    "x3=[w[0],w[1],w[1],-w[0]]\n",
    "\n",
    "x2x3 =np.array([x2,x3])\n",
    "X,Y,U,V = zip(*x2x3)\n",
    "ax = plt.gca()\n",
    "ax.quiver(X,Y,U,V,scale=1, color='blue')"
   ]
  },
  {
   "cell_type": "code",
   "execution_count": 53,
   "metadata": {
    "collapsed": true
   },
   "outputs": [],
   "source": [
    "w=np.zeros(len(X[0]))"
   ]
  },
  {
   "cell_type": "code",
   "execution_count": 54,
   "metadata": {},
   "outputs": [
    {
     "data": {
      "text/plain": [
       "array([ 0.,  0.,  0.])"
      ]
     },
     "execution_count": 54,
     "metadata": {},
     "output_type": "execute_result"
    }
   ],
   "source": [
    "w"
   ]
  },
  {
   "cell_type": "code",
   "execution_count": null,
   "metadata": {
    "collapsed": true
   },
   "outputs": [],
   "source": [
    "# Works differently in two different computers"
   ]
  }
 ],
 "metadata": {
  "kernelspec": {
   "display_name": "Python [conda root]",
   "language": "python",
   "name": "conda-root-py"
  },
  "language_info": {
   "codemirror_mode": {
    "name": "ipython",
    "version": 2
   },
   "file_extension": ".py",
   "mimetype": "text/x-python",
   "name": "python",
   "nbconvert_exporter": "python",
   "pygments_lexer": "ipython2",
   "version": "2.7.14"
  }
 },
 "nbformat": 4,
 "nbformat_minor": 2
}
