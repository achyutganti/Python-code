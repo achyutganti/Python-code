{
 "cells": [
  {
   "cell_type": "code",
   "execution_count": 3,
   "metadata": {},
   "outputs": [
    {
     "name": "stdout",
     "output_type": "stream",
     "text": [
      "Encryption or Decryption. Press E or D: D\n",
      "\n",
      "Enter the passcode: ········\n",
      "Enter your text here: Xcouk ku c iqqf dqa. Pqv vjcv dcf dqa.\n",
      "Vamsi is a good boy. Not that bad boy.\n"
     ]
    }
   ],
   "source": [
    "import getpass      # importing the package getpass\n",
    "from string import ascii_lowercase  # importing the lower_case function from the string package\n",
    "select = raw_input('Encryption or Decryption. Press E or D: ' )  # input for Encryption or Decryption\n",
    "alpha = ascii_lowercase\n",
    "alpha+=alpha \n",
    "beta=''\n",
    "if select=='E' or select=='D':\n",
    "    if select== 'E':                                # if i press E then execute the following\n",
    "        text = raw_input('Enter your text here: ') \n",
    "        for i in text:\n",
    "            if i not in alpha:\n",
    "                if i.isupper():\n",
    "                    i=i.lower()\n",
    "                    beta+=alpha[alpha.index(i)+2].upper()\n",
    "                else:\n",
    "                    beta+=i\n",
    "            else:\n",
    "                beta+=alpha[alpha.index(i)+2] \n",
    "    print(beta)\n",
    "    if select=='D':                                                     # if D, then execute the following \n",
    "        passcode=getpass.getpass(prompt='Enter the passcode: ')        # Asks for the passcode and validates it\n",
    "        if passcode=='cipher':\n",
    "            text = raw_input('Enter your text here: ')\n",
    "            for i in text:\n",
    "                if i not in alpha:\n",
    "                    if i.isupper():\n",
    "                        i=i.lower()\n",
    "                        beta+=alpha[alpha.index(i)-2].upper()\n",
    "                    else:\n",
    "                        beta+=i\n",
    "                else:\n",
    "                    beta+=alpha[alpha.index(i)-2]\n",
    "            print(beta)\n",
    "        else:\n",
    "            print('wrong passcode')                       # If passcode entered does not match, then it gives you an error. \n",
    "else:\n",
    "    print('Select a valid entry. i.e., \"E\" or \"D\": ')"
   ]
  },
  {
   "cell_type": "code",
   "execution_count": 119,
   "metadata": {},
   "outputs": [
    {
     "name": "stdout",
     "output_type": "stream",
     "text": [
      "assign\n",
      "\n"
     ]
    }
   ],
   "source": [
    "l = open('/home/achyutganti/message.txt','r')\n",
    "\n",
    "b=''\n",
    "for line in l:\n",
    "    b+=line\n",
    "      "
   ]
  },
  {
   "cell_type": "code",
   "execution_count": 1,
   "metadata": {},
   "outputs": [
    {
     "ename": "NameError",
     "evalue": "name 'ascii_lowercase' is not defined",
     "output_type": "error",
     "traceback": [
      "\u001b[0;31m---------------------------------------------------------------------------\u001b[0m",
      "\u001b[0;31mNameError\u001b[0m                                 Traceback (most recent call last)",
      "\u001b[0;32m<ipython-input-1-503eb3810dab>\u001b[0m in \u001b[0;36m<module>\u001b[0;34m()\u001b[0m\n\u001b[1;32m      1\u001b[0m \u001b[0ml\u001b[0m \u001b[0;34m=\u001b[0m \u001b[0mopen\u001b[0m\u001b[0;34m(\u001b[0m\u001b[0;34m'/home/achyutganti/mynewfile'\u001b[0m\u001b[0;34m,\u001b[0m\u001b[0;34m'r'\u001b[0m\u001b[0;34m)\u001b[0m\u001b[0;34m\u001b[0m\u001b[0m\n\u001b[0;32m----> 2\u001b[0;31m \u001b[0malpha\u001b[0m \u001b[0;34m=\u001b[0m \u001b[0mascii_lowercase\u001b[0m\u001b[0;34m\u001b[0m\u001b[0m\n\u001b[0m\u001b[1;32m      3\u001b[0m \u001b[0malpha\u001b[0m\u001b[0;34m+=\u001b[0m\u001b[0malpha\u001b[0m\u001b[0;34m\u001b[0m\u001b[0m\n\u001b[1;32m      4\u001b[0m \u001b[0mbeta\u001b[0m\u001b[0;34m=\u001b[0m\u001b[0;34m''\u001b[0m\u001b[0;34m\u001b[0m\u001b[0m\n\u001b[1;32m      5\u001b[0m \u001b[0;32mfor\u001b[0m \u001b[0mi\u001b[0m \u001b[0;32min\u001b[0m \u001b[0ml\u001b[0m\u001b[0;34m:\u001b[0m\u001b[0;34m\u001b[0m\u001b[0m\n",
      "\u001b[0;31mNameError\u001b[0m: name 'ascii_lowercase' is not defined"
     ]
    }
   ],
   "source": [
    "l = open('/home/achyutganti/mynewfile','r')\n",
    "alpha = ascii_lowercase\n",
    "alpha+=alpha \n",
    "beta=''\n",
    "for i in l:\n",
    "    for ii in i:\n",
    "        if ii not in alpha:\n",
    "            if ii.isupper():\n",
    "                ii=ii.lower()\n",
    "                beta+=alpha[alpha.index(ii)-2].upper()\n",
    "            else:\n",
    "                beta+=ii\n",
    "        else:\n",
    "            beta+=alpha[alpha.index(ii)-2] \n",
    "new = open('message','w+')\n",
    "new.write(beta)\n",
    "new.close()"
   ]
  },
  {
   "cell_type": "code",
   "execution_count": 35,
   "metadata": {
    "collapsed": true
   },
   "outputs": [],
   "source": [
    "a = [1,2,3,4,5]\n",
    "b=[1,2,3]\n",
    "def uni(x,y):\n",
    "    return sorted(x+y)"
   ]
  },
  {
   "cell_type": "code",
   "execution_count": 37,
   "metadata": {
    "collapsed": true
   },
   "outputs": [],
   "source": [
    "def return_union(list_a, list_b):\n",
    "    return sorted(list_a + list_b)"
   ]
  },
  {
   "cell_type": "code",
   "execution_count": 39,
   "metadata": {},
   "outputs": [
    {
     "data": {
      "text/plain": [
       "[1, 1, 2, 2, 3, 3, 4, 5]"
      ]
     },
     "execution_count": 39,
     "metadata": {},
     "output_type": "execute_result"
    }
   ],
   "source": [
    "return_union(a,b)"
   ]
  },
  {
   "cell_type": "code",
   "execution_count": 1,
   "metadata": {},
   "outputs": [
    {
     "ename": "TypeError",
     "evalue": "unsupported operand type(s) for -: 'list' and 'int'",
     "output_type": "error",
     "traceback": [
      "\u001b[0;31m---------------------------------------------------------------------------\u001b[0m",
      "\u001b[0;31mTypeError\u001b[0m                                 Traceback (most recent call last)",
      "\u001b[0;32m<ipython-input-1-ac6c8162ffc6>\u001b[0m in \u001b[0;36m<module>\u001b[0;34m()\u001b[0m\n\u001b[1;32m      6\u001b[0m         \u001b[0;32mprint\u001b[0m\u001b[0;34m(\u001b[0m\u001b[0malist\u001b[0m\u001b[0;34m)\u001b[0m\u001b[0;34m\u001b[0m\u001b[0m\n\u001b[1;32m      7\u001b[0m \u001b[0;34m\u001b[0m\u001b[0m\n\u001b[0;32m----> 8\u001b[0;31m \u001b[0msort\u001b[0m\u001b[0;34m(\u001b[0m\u001b[0;34m[\u001b[0m\u001b[0;36m1\u001b[0m\u001b[0;34m,\u001b[0m\u001b[0;36m4\u001b[0m\u001b[0;34m,\u001b[0m\u001b[0;36m2\u001b[0m\u001b[0;34m,\u001b[0m\u001b[0;36m4\u001b[0m\u001b[0;34m,\u001b[0m\u001b[0;36m5\u001b[0m\u001b[0;34m,\u001b[0m\u001b[0;36m6\u001b[0m\u001b[0;34m]\u001b[0m\u001b[0;34m)\u001b[0m\u001b[0;34m\u001b[0m\u001b[0m\n\u001b[0m",
      "\u001b[0;32m<ipython-input-1-ac6c8162ffc6>\u001b[0m in \u001b[0;36msort\u001b[0;34m(alist)\u001b[0m\n\u001b[1;32m      1\u001b[0m \u001b[0;32mdef\u001b[0m \u001b[0msort\u001b[0m\u001b[0;34m(\u001b[0m\u001b[0malist\u001b[0m\u001b[0;34m)\u001b[0m\u001b[0;34m:\u001b[0m\u001b[0;34m\u001b[0m\u001b[0m\n\u001b[0;32m----> 2\u001b[0;31m     \u001b[0;32mfor\u001b[0m \u001b[0mi\u001b[0m \u001b[0;32min\u001b[0m \u001b[0mrange\u001b[0m\u001b[0;34m(\u001b[0m\u001b[0mlen\u001b[0m\u001b[0;34m(\u001b[0m\u001b[0malist\u001b[0m\u001b[0;34m)\u001b[0m\u001b[0;34m)\u001b[0m\u001b[0;34m-\u001b[0m\u001b[0;36m1\u001b[0m\u001b[0;34m:\u001b[0m\u001b[0;34m\u001b[0m\u001b[0m\n\u001b[0m\u001b[1;32m      3\u001b[0m         \u001b[0;32mfor\u001b[0m \u001b[0mj\u001b[0m \u001b[0;32min\u001b[0m \u001b[0mrange\u001b[0m\u001b[0;34m(\u001b[0m\u001b[0mlen\u001b[0m\u001b[0;34m(\u001b[0m\u001b[0malist\u001b[0m\u001b[0;34m)\u001b[0m\u001b[0;34m)\u001b[0m\u001b[0;34m-\u001b[0m\u001b[0mi\u001b[0m\u001b[0;34m:\u001b[0m\u001b[0;34m\u001b[0m\u001b[0m\n\u001b[1;32m      4\u001b[0m             \u001b[0;32mif\u001b[0m \u001b[0malist\u001b[0m\u001b[0;34m[\u001b[0m\u001b[0mi\u001b[0m\u001b[0;34m]\u001b[0m\u001b[0;34m<\u001b[0m\u001b[0malist\u001b[0m\u001b[0;34m[\u001b[0m\u001b[0mj\u001b[0m\u001b[0;34m]\u001b[0m\u001b[0;34m:\u001b[0m\u001b[0;34m\u001b[0m\u001b[0m\n\u001b[1;32m      5\u001b[0m                 \u001b[0malist\u001b[0m\u001b[0;34m[\u001b[0m\u001b[0mi\u001b[0m\u001b[0;34m]\u001b[0m\u001b[0;34m,\u001b[0m\u001b[0malist\u001b[0m\u001b[0;34m[\u001b[0m\u001b[0mj\u001b[0m\u001b[0;34m]\u001b[0m\u001b[0;34m=\u001b[0m\u001b[0malist\u001b[0m\u001b[0;34m[\u001b[0m\u001b[0mj\u001b[0m\u001b[0;34m]\u001b[0m\u001b[0;34m,\u001b[0m\u001b[0malist\u001b[0m\u001b[0;34m[\u001b[0m\u001b[0mi\u001b[0m\u001b[0;34m]\u001b[0m\u001b[0;34m\u001b[0m\u001b[0m\n",
      "\u001b[0;31mTypeError\u001b[0m: unsupported operand type(s) for -: 'list' and 'int'"
     ]
    }
   ],
   "source": [
    "def sort(alist):\n",
    "    for i in range(len(alist))-1:\n",
    "        for j in range(len(alist))-i:\n",
    "            if alist[i]<alist[j]:\n",
    "                alist[i],alist[j]=alist[j],alist[i]\n",
    "        print(alist)\n",
    "        \n",
    "sort([1,4,2,4,5,6])"
   ]
  },
  {
   "cell_type": "code",
   "execution_count": 14,
   "metadata": {},
   "outputs": [
    {
     "name": "stdout",
     "output_type": "stream",
     "text": [
      "Day1 \t--> \tAmount: 0.01\n",
      "Day2 \t--> \tAmount: 0.02\n",
      "Day3 \t--> \tAmount: 0.04\n",
      "Day4 \t--> \tAmount: 0.08\n",
      "Day5 \t--> \tAmount: 0.16\n",
      "Day6 \t--> \tAmount: 0.32\n",
      "Day7 \t--> \tAmount: 0.64\n",
      "Day8 \t--> \tAmount: 1.28\n",
      "Day9 \t--> \tAmount: 2.56\n",
      "Day10 \t--> \tAmount: 5.12\n",
      "Day11 \t--> \tAmount: 10.24\n",
      "Day12 \t--> \tAmount: 20.48\n",
      "Day13 \t--> \tAmount: 40.96\n",
      "Day14 \t--> \tAmount: 81.92\n",
      "Day15 \t--> \tAmount: 163.84\n",
      "Day16 \t--> \tAmount: 327.68\n",
      "Day17 \t--> \tAmount: 655.36\n",
      "Day18 \t--> \tAmount: 1310.72\n",
      "Day19 \t--> \tAmount: 2621.44\n",
      "Day20 \t--> \tAmount: 5242.88\n",
      "Day21 \t--> \tAmount: 10485.76\n",
      "Day22 \t--> \tAmount: 20971.52\n",
      "Day23 \t--> \tAmount: 41943.04\n",
      "Day24 \t--> \tAmount: 83886.08\n",
      "Day25 \t--> \tAmount: 167772.16\n",
      "Day26 \t--> \tAmount: 335544.32\n",
      "Day27 \t--> \tAmount: 671088.64\n",
      "Day28 \t--> \tAmount: 1342177.28\n",
      "Day29 \t--> \tAmount: 2684354.56\n",
      "Day30 \t--> \tAmount: 5368709.12\n",
      "Day31 \t--> \tAmount: 10737418.24\n"
     ]
    }
   ],
   "source": [
    "amount = 0.01\n",
    "for i in range(1,32):\n",
    "    print('Day{0} \\t--> \\tAmount: {1}'.format(i, amount))\n",
    "    amount*=2"
   ]
  }
 ],
 "metadata": {
  "kernelspec": {
   "display_name": "Python [conda root]",
   "language": "python",
   "name": "conda-root-py"
  },
  "language_info": {
   "codemirror_mode": {
    "name": "ipython",
    "version": 2
   },
   "file_extension": ".py",
   "mimetype": "text/x-python",
   "name": "python",
   "nbconvert_exporter": "python",
   "pygments_lexer": "ipython2",
   "version": "2.7.15"
  }
 },
 "nbformat": 4,
 "nbformat_minor": 2
}
